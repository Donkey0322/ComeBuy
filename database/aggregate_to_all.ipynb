{
 "cells": [
  {
   "cell_type": "code",
   "execution_count": 1,
   "metadata": {},
   "outputs": [],
   "source": [
    "import pandas as pd\n",
    "import psycopg2\n",
    "import random\n",
    "from collections import defaultdict\n",
    "import datetime"
   ]
  },
  {
   "cell_type": "code",
   "execution_count": 2,
   "metadata": {},
   "outputs": [],
   "source": [
    "conn = psycopg2.connect(\n",
    "    host=\"localhost\",\n",
    "    database=\"comebuy_db\",\n",
    "    port='5432',\n",
    "    user=\"dev\",\n",
    "    password=\"dev\")"
   ]
  },
  {
   "cell_type": "code",
   "execution_count": 3,
   "metadata": {},
   "outputs": [],
   "source": [
    "def query(q, conn):\n",
    "    try:\n",
    "        cursor = conn.cursor()\n",
    "        cursor.execute(q)\n",
    "        cursor.close()\n",
    "        conn.commit()\n",
    "    except (Exception, psycopg2.DatabaseError) as error:\n",
    "        print('err', error)\n",
    "\n",
    "def query2(q, s, conn):\n",
    "    try:\n",
    "        cursor = conn.cursor()\n",
    "        cursor.execute(q,s)\n",
    "        cursor.close()\n",
    "        conn.commit()\n",
    "    except (Exception, psycopg2.DatabaseError) as error:\n",
    "        print('err', error)\n",
    "\n",
    "def select(q, conn):\n",
    "    try:\n",
    "        cursor = conn.cursor()\n",
    "        cursor.execute(q)\n",
    "        r = cursor.fetchall()\n",
    "        cursor.close()\n",
    "        conn.commit()\n",
    "        return(r)\n",
    "    except (Exception, psycopg2.DatabaseError) as error:\n",
    "        print('err', error)\n",
    "\n",
    "def insert(df):\n",
    "    for i in ['store', 'district', 'county', 'region']:\n",
    "        aggregate = df.groupby([i, 'date', 'drink', 'ice', 'sweet', 'taste', 'topping'], as_index=False)['price', 'amount'].sum()\n",
    "        aggregate['topping'] = aggregate['topping'].apply(lambda x: split_tolist(x) if type(x) == str else None)\n",
    "        aggregate['taste'] = aggregate['taste'].apply(lambda x: split_tolist(x) if type(x) == str else None)\n",
    "        data = list(aggregate.itertuples(index=False, name=None))\n",
    "        args = ','.join(cursor.mogrify(\"(%s,%s,%s,%s,%s,%s,%s,%s,%s)\", i).decode('utf-8')\n",
    "                    for i in data)\n",
    "        if i == 'store':\n",
    "            sql = \"INSERT INTO aggregateSalesDay\" + \" (\" + i + \", date, drink, ice, sweet, taste, topping, price, amount) VALUES \" + (args)\n",
    "        else:\n",
    "            sql = \"INSERT INTO aggregateSalesDay\" + i + \" (\" + i + \", date, drink, ice, sweet, taste, topping, price, amount) VALUES \" + (args)\n",
    "        query(sql, conn)\n",
    "        \n",
    "        aggregate = df.groupby([i, 'date', 'time', 'drink', 'ice', 'sweet', 'taste', 'topping'], as_index=False)['price', 'amount'].sum()\n",
    "        aggregate['topping'] = aggregate['topping'].apply(lambda x: split_tolist(x) if type(x) == str else None)\n",
    "        aggregate['taste'] = aggregate['taste'].apply(lambda x: split_tolist(x) if type(x) == str else None)\n",
    "        data = list(aggregate.itertuples(index=False, name=None))\n",
    "        args = ','.join(cursor.mogrify(\"(%s,%s,%s,%s,%s,%s,%s,%s,%s,%s)\", i).decode('utf-8')\n",
    "                    for i in data)\n",
    "        if i == 'store':\n",
    "            sql = \"INSERT INTO aggregateSalesHour\" + \" (\" + i + \" ,date, hour, drink, ice, sweet, taste, topping, price, amount) VALUES \" + (args)\n",
    "        else:\n",
    "            sql = \"INSERT INTO aggregateSalesHour\" + i + \" (\" + i + \" ,date, hour, drink, ice, sweet, taste, topping, price, amount) VALUES \" + (args)\n",
    "        query(sql, conn)\n",
    "\n",
    "def split_tolist(target):\n",
    "    if target:\n",
    "        target = target.split('/')\n",
    "        target.sort()\n",
    "        return target\n",
    "    return target\n",
    "\n",
    "def insert(df):\n",
    "    for i in ['store', 'district', 'county', 'region']:\n",
    "        aggregate = df.groupby([i, 'date', 'drink', 'ice', 'sweet', 'taste', 'topping'], as_index=False)['price', 'amount'].sum()\n",
    "        aggregate['topping'] = aggregate['topping'].apply(lambda x: split_tolist(x) if type(x) == str else None)\n",
    "        aggregate['taste'] = aggregate['taste'].apply(lambda x: split_tolist(x) if type(x) == str else None)\n",
    "        data = list(aggregate.itertuples(index=False, name=None))\n",
    "        args = ','.join(cursor.mogrify(\"(%s,%s,%s,%s,%s,%s,%s,%s,%s)\", i).decode('utf-8')\n",
    "                    for i in data)\n",
    "        if i == 'store':\n",
    "            sql = \"INSERT INTO aggregateSalesDay\" + \" (\" + i + \", date, drink, ice, sweet, taste, topping, price, amount) VALUES \" + (args)\n",
    "        else:\n",
    "            sql = \"INSERT INTO aggregateSalesDay\" + i + \" (\" + i + \", date, drink, ice, sweet, taste, topping, price, amount) VALUES \" + (args)\n",
    "        query(sql, conn)\n",
    "        \n",
    "        aggregate = df.groupby([i, 'date', 'time', 'drink', 'ice', 'sweet', 'taste', 'topping'], as_index=False)['price', 'amount'].sum()\n",
    "        aggregate['topping'] = aggregate['topping'].apply(lambda x: split_tolist(x) if type(x) == str else None)\n",
    "        aggregate['taste'] = aggregate['taste'].apply(lambda x: split_tolist(x) if type(x) == str else None)\n",
    "        data = list(aggregate.itertuples(index=False, name=None))\n",
    "        args = ','.join(cursor.mogrify(\"(%s,%s,%s,%s,%s,%s,%s,%s,%s,%s)\", i).decode('utf-8')\n",
    "                    for i in data)\n",
    "        if i == 'store':\n",
    "            sql = \"INSERT INTO aggregateSalesHour\" + \" (\" + i + \" ,date, hour, drink, ice, sweet, taste, topping, price, amount) VALUES \" + (args)\n",
    "        else:\n",
    "            sql = \"INSERT INTO aggregateSalesHour\" + i + \" (\" + i + \" ,date, hour, drink, ice, sweet, taste, topping, price, amount) VALUES \" + (args)\n",
    "        query(sql, conn)\n"
   ]
  },
  {
   "cell_type": "code",
   "execution_count": 7,
   "metadata": {},
   "outputs": [],
   "source": [
    "sql = 'select * from tempSales'\n",
    "temp_sales = select(sql, conn)\n",
    "sql = 'select * from sweets'\n",
    "sweets = select(sql, conn)\n",
    "sweets = {i[1]: i[0] for i in sweets}\n",
    "sql = 'select * from ices'\n",
    "ices = select(sql, conn)\n",
    "ices = {i[1]: i[0] for i in ices}\n",
    "sql = 'select stores.id, stores.name from stores'\n",
    "stores = select(sql, conn)\n",
    "stores = {i[1]: i[0] for i in stores}\n",
    "sql = 'select drinks.id, drinks.name from drinks'\n",
    "drinks = select(sql, conn)\n",
    "drinks = {i[1]: i[0] for i in drinks}\n",
    "sql = 'select s.id, s.region, s.county, s.district from stores s'\n",
    "stores_detail = select(sql, conn)"
   ]
  },
  {
   "cell_type": "code",
   "execution_count": 8,
   "metadata": {},
   "outputs": [],
   "source": [
    "stores_detail_df = pd.DataFrame(stores_detail, columns =['id', 'region', 'county', 'district'])"
   ]
  },
  {
   "cell_type": "code",
   "execution_count": 9,
   "metadata": {},
   "outputs": [],
   "source": [
    "temp_sales_df = pd.DataFrame(temp_sales, columns =['id', 'store', 'date', 'time', 'drink', 'ice', 'sweet', 'taste', 'topping', 'price', 'amount']).drop(columns=['id'])\n",
    "temp_sales_df['sweet'] = temp_sales_df['sweet'].apply(lambda x: sweets[x])\n",
    "temp_sales_df['ice'] = temp_sales_df['ice'].apply(lambda x: ices[x])\n",
    "temp_sales_df['store'] = temp_sales_df['store'].apply(lambda x: stores[x])\n",
    "temp_sales_df['drink'] = temp_sales_df['drink'].apply(lambda x: drinks[x])\n",
    "temp_sales_df['taste'] = temp_sales_df['taste'].apply(lambda x: split_tolist(x))\n",
    "temp_sales_df['topping'] = temp_sales_df['topping'].apply(lambda x: split_tolist(x))\n"
   ]
  },
  {
   "cell_type": "code",
   "execution_count": 10,
   "metadata": {},
   "outputs": [],
   "source": [
    "cursor = conn.cursor()\n",
    "data_list = temp_sales_df.values.tolist()\n",
    "args = ','.join(cursor.mogrify(\"(%s,%s,%s,%s,%s,%s,%s,%s,%s,%s)\", i).decode('utf-8')\n",
    "                for i in data_list)\n",
    "sql = \"INSERT INTO sales (store, date, time, drink, ice, sweet, taste, topping, price, amount) VALUES \" + (args)\n",
    "query(sql, conn)"
   ]
  },
  {
   "cell_type": "code",
   "execution_count": 11,
   "metadata": {},
   "outputs": [],
   "source": [
    "temp_sales_df['time'] = temp_sales_df['time'].apply(lambda x: x.hour)"
   ]
  },
  {
   "cell_type": "code",
   "execution_count": 12,
   "metadata": {},
   "outputs": [],
   "source": [
    "temp_all_df = pd.merge(temp_sales_df, stores_detail_df, left_on=\"store\", right_on=\"id\", how='left').drop(['id'], axis=1)\n",
    "temp_all_df = temp_all_df.fillna(value=0)\n",
    "temp_all_df['taste'] = temp_all_df['taste'].apply(lambda x: '/'.join(x) if type(x) == list else x)\n",
    "temp_all_df['topping'] = temp_all_df['topping'].apply(lambda x: '/'.join(x) if type(x) == list else x)"
   ]
  },
  {
   "cell_type": "code",
   "execution_count": 13,
   "metadata": {},
   "outputs": [
    {
     "name": "stderr",
     "output_type": "stream",
     "text": [
      "/var/folders/wj/b9_f5l6j2t315cftjgkzyqxh0000gn/T/ipykernel_80629/3970572312.py:65: FutureWarning: Indexing with multiple keys (implicitly converted to a tuple of keys) will be deprecated, use a list instead.\n",
      "  aggregate = df.groupby([i, 'date', 'drink', 'ice', 'sweet', 'taste', 'topping'], as_index=False)['price', 'amount'].sum()\n",
      "/var/folders/wj/b9_f5l6j2t315cftjgkzyqxh0000gn/T/ipykernel_80629/3970572312.py:77: FutureWarning: Indexing with multiple keys (implicitly converted to a tuple of keys) will be deprecated, use a list instead.\n",
      "  aggregate = df.groupby([i, 'date', 'time', 'drink', 'ice', 'sweet', 'taste', 'topping'], as_index=False)['price', 'amount'].sum()\n",
      "/var/folders/wj/b9_f5l6j2t315cftjgkzyqxh0000gn/T/ipykernel_80629/3970572312.py:65: FutureWarning: Indexing with multiple keys (implicitly converted to a tuple of keys) will be deprecated, use a list instead.\n",
      "  aggregate = df.groupby([i, 'date', 'drink', 'ice', 'sweet', 'taste', 'topping'], as_index=False)['price', 'amount'].sum()\n",
      "/var/folders/wj/b9_f5l6j2t315cftjgkzyqxh0000gn/T/ipykernel_80629/3970572312.py:77: FutureWarning: Indexing with multiple keys (implicitly converted to a tuple of keys) will be deprecated, use a list instead.\n",
      "  aggregate = df.groupby([i, 'date', 'time', 'drink', 'ice', 'sweet', 'taste', 'topping'], as_index=False)['price', 'amount'].sum()\n",
      "/var/folders/wj/b9_f5l6j2t315cftjgkzyqxh0000gn/T/ipykernel_80629/3970572312.py:65: FutureWarning: Indexing with multiple keys (implicitly converted to a tuple of keys) will be deprecated, use a list instead.\n",
      "  aggregate = df.groupby([i, 'date', 'drink', 'ice', 'sweet', 'taste', 'topping'], as_index=False)['price', 'amount'].sum()\n",
      "/var/folders/wj/b9_f5l6j2t315cftjgkzyqxh0000gn/T/ipykernel_80629/3970572312.py:77: FutureWarning: Indexing with multiple keys (implicitly converted to a tuple of keys) will be deprecated, use a list instead.\n",
      "  aggregate = df.groupby([i, 'date', 'time', 'drink', 'ice', 'sweet', 'taste', 'topping'], as_index=False)['price', 'amount'].sum()\n",
      "/var/folders/wj/b9_f5l6j2t315cftjgkzyqxh0000gn/T/ipykernel_80629/3970572312.py:65: FutureWarning: Indexing with multiple keys (implicitly converted to a tuple of keys) will be deprecated, use a list instead.\n",
      "  aggregate = df.groupby([i, 'date', 'drink', 'ice', 'sweet', 'taste', 'topping'], as_index=False)['price', 'amount'].sum()\n"
     ]
    },
    {
     "name": "stdout",
     "output_type": "stream",
     "text": [
      "done\n"
     ]
    },
    {
     "name": "stderr",
     "output_type": "stream",
     "text": [
      "/var/folders/wj/b9_f5l6j2t315cftjgkzyqxh0000gn/T/ipykernel_80629/3970572312.py:77: FutureWarning: Indexing with multiple keys (implicitly converted to a tuple of keys) will be deprecated, use a list instead.\n",
      "  aggregate = df.groupby([i, 'date', 'time', 'drink', 'ice', 'sweet', 'taste', 'topping'], as_index=False)['price', 'amount'].sum()\n"
     ]
    }
   ],
   "source": [
    "insert(temp_all_df)\n",
    "print('done')"
   ]
  }
 ],
 "metadata": {
  "kernelspec": {
   "display_name": "ipcs",
   "language": "python",
   "name": "python3"
  },
  "language_info": {
   "codemirror_mode": {
    "name": "ipython",
    "version": 3
   },
   "file_extension": ".py",
   "mimetype": "text/x-python",
   "name": "python",
   "nbconvert_exporter": "python",
   "pygments_lexer": "ipython3",
   "version": "3.10.8"
  },
  "orig_nbformat": 4
 },
 "nbformat": 4,
 "nbformat_minor": 2
}
